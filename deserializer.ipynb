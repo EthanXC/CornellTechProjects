{
 "cells": [
  {
   "cell_type": "code",
   "execution_count": 98,
   "id": "e2943fa8-0a2e-4340-a30f-5915ec4efb95",
   "metadata": {},
   "outputs": [],
   "source": [
    "# the purpose of this script is to deserialize all of the contents of the player folders given in the same directory.\n",
    "# we will first need to find the parts of the csv files that are serialized, and then reverse the process in which they \n",
    "# were serialized in order to fix it."
   ]
  },
  {
   "cell_type": "code",
   "execution_count": 99,
   "id": "0f3a0359-73bb-4386-840e-05b6ca30abf9",
   "metadata": {},
   "outputs": [],
   "source": [
    "# import everything we need\n",
    "import os\n",
    "import base64\n",
    "import struct\n",
    "import pandas as pd"
   ]
  },
  {
   "cell_type": "code",
   "execution_count": 100,
   "id": "6bcd2355-951b-4c51-8c73-4973c7d6f70b",
   "metadata": {},
   "outputs": [
    {
     "name": "stdout",
     "output_type": "stream",
     "text": [
      "Position: x=-34.7628059387207, y=1.6750364303588867, z=54.08720397949219\n"
     ]
    }
   ],
   "source": [
    "def decode_position_log(base64_string):\n",
    "    # This function decodes the Base64 string to a byte array\n",
    "    # you pass in the base 64 string that you want to deserialize\n",
    "\n",
    "    # decodes base 64 string into byte array\n",
    "    byte_array = base64.b64decode(base64_string)\n",
    "    \n",
    "    # Unpack the byte array into floats\n",
    "    x, y, z = struct.unpack('fff', byte_array)\n",
    "    \n",
    "    return x, y, z\n",
    "\n",
    "# Example usage\n",
    "example_pos = 'HQ0Lwphn1j9MWVhC'\n",
    "position = decode_position_log(example_pos)\n",
    "print(f\"Position: x={position[0]}, y={position[1]}, z={position[2]}\")"
   ]
  },
  {
   "cell_type": "code",
   "execution_count": 101,
   "id": "9c5bfa92-c5ac-44b0-8c6d-07f3e83de243",
   "metadata": {},
   "outputs": [],
   "source": [
    "def deserialize_csv(path):\n",
    "    # This function reads the csv, and then creates a new one with the same contents but while deserializing all of the data for future\n",
    "    # use in graphing.\n",
    "    \n",
    "    df = pd.read_csv(path, delimiter=';') # create a dataframe out of the csv's contents\n",
    "    #print(df.head()) # check if we read it correctly\n",
    "\n",
    "    columns_to_skip = ['A accel', 'A steering', 'A velocity', 'A indicators', 'A Horn Button'] # These are not serialized\n",
    "\n",
    "    for column in df.columns[5:]: # loop through each key. Starts at the 6th key since the previous 5 are not base 64\n",
    "        if column in columns_to_skip: # if the column isn't serialized, skip it\n",
    "            continue\n",
    "        #print(column)\n",
    "        df[column] = df[column].apply(decode_position_log) # replaces the serialized value with the deserialized one\n",
    "        #print(df[column])\n",
    "    \n",
    "    # write the new df to a new csv\n",
    "    if 'deserialized' in path:\n",
    "         serialized_csv = path\n",
    "    else:\n",
    "        serialized_csv = path[:-4] + '_deserialized.csv' # slice off the '.csv' from the last file and add _deserialized\n",
    "        \n",
    "    df.to_csv(serialized_csv, index=False) # create a new csv with the deserialized data in the pandas dataframe\n",
    "    \n",
    "#deserialize_csv('CSV_Scenario-Ped-101_Session-temp_2024-02-22-13-58-23.csv') # test on one file"
   ]
  },
  {
   "cell_type": "code",
   "execution_count": 102,
   "id": "3aa35cc2-cd96-4cdd-a68b-c37390acf569",
   "metadata": {},
   "outputs": [
    {
     "name": "stdout",
     "output_type": "stream",
     "text": [
      "deserializing p1... done.\n",
      "deserializing p2... done.\n",
      "deserializing p3... done.\n",
      "deserializing p4... done.\n",
      "deserializing p5... "
     ]
    },
    {
     "ename": "Error",
     "evalue": "Incorrect padding",
     "output_type": "error",
     "traceback": [
      "\u001b[1;31m---------------------------------------------------------------------------\u001b[0m",
      "\u001b[1;31mError\u001b[0m                                     Traceback (most recent call last)",
      "Cell \u001b[1;32mIn[102], line 22\u001b[0m\n\u001b[0;32m     19\u001b[0m         \u001b[38;5;28mprint\u001b[39m(\u001b[38;5;124m'\u001b[39m\u001b[38;5;124mdone.\u001b[39m\u001b[38;5;124m'\u001b[39m)\n\u001b[0;32m     21\u001b[0m path \u001b[38;5;241m=\u001b[39m \u001b[38;5;124m'\u001b[39m\u001b[38;5;124mxcped_decoded/\u001b[39m\u001b[38;5;124m'\u001b[39m\n\u001b[1;32m---> 22\u001b[0m deserialize_all(path)\n",
      "Cell \u001b[1;32mIn[102], line 18\u001b[0m, in \u001b[0;36mdeserialize_all\u001b[1;34m(path)\u001b[0m\n\u001b[0;32m     16\u001b[0m \u001b[38;5;28mprint\u001b[39m(\u001b[38;5;124mf\u001b[39m\u001b[38;5;124m'\u001b[39m\u001b[38;5;124mdeserializing \u001b[39m\u001b[38;5;132;01m{\u001b[39;00m(path\u001b[38;5;250m \u001b[39m\u001b[38;5;241m+\u001b[39m\u001b[38;5;250m \u001b[39m\u001b[38;5;28mstr\u001b[39m(i))[\u001b[38;5;241m14\u001b[39m:]\u001b[38;5;132;01m}\u001b[39;00m\u001b[38;5;124m...\u001b[39m\u001b[38;5;124m'\u001b[39m, end \u001b[38;5;241m=\u001b[39m \u001b[38;5;124m'\u001b[39m\u001b[38;5;124m \u001b[39m\u001b[38;5;124m'\u001b[39m)\n\u001b[0;32m     17\u001b[0m \u001b[38;5;28;01mfor\u001b[39;00m csv_file \u001b[38;5;129;01min\u001b[39;00m files:\n\u001b[1;32m---> 18\u001b[0m     deserialize_csv(new_path \u001b[38;5;241m+\u001b[39m csv_file)            \n\u001b[0;32m     19\u001b[0m \u001b[38;5;28mprint\u001b[39m(\u001b[38;5;124m'\u001b[39m\u001b[38;5;124mdone.\u001b[39m\u001b[38;5;124m'\u001b[39m)\n",
      "Cell \u001b[1;32mIn[101], line 14\u001b[0m, in \u001b[0;36mdeserialize_csv\u001b[1;34m(path)\u001b[0m\n\u001b[0;32m     12\u001b[0m         \u001b[38;5;28;01mcontinue\u001b[39;00m\n\u001b[0;32m     13\u001b[0m     \u001b[38;5;66;03m#print(column)\u001b[39;00m\n\u001b[1;32m---> 14\u001b[0m     df[column] \u001b[38;5;241m=\u001b[39m df[column]\u001b[38;5;241m.\u001b[39mapply(decode_position_log) \u001b[38;5;66;03m# replaces the serialized value with the deserialized one\u001b[39;00m\n\u001b[0;32m     15\u001b[0m     \u001b[38;5;66;03m#print(df[column])\u001b[39;00m\n\u001b[0;32m     16\u001b[0m \n\u001b[0;32m     17\u001b[0m \u001b[38;5;66;03m# write the new df to a new csv\u001b[39;00m\n\u001b[0;32m     18\u001b[0m \u001b[38;5;28;01mif\u001b[39;00m \u001b[38;5;124m'\u001b[39m\u001b[38;5;124mdeserialized\u001b[39m\u001b[38;5;124m'\u001b[39m \u001b[38;5;129;01min\u001b[39;00m path:\n",
      "File \u001b[1;32m~\\miniconda3\\Lib\\site-packages\\pandas\\core\\series.py:4924\u001b[0m, in \u001b[0;36mSeries.apply\u001b[1;34m(self, func, convert_dtype, args, by_row, **kwargs)\u001b[0m\n\u001b[0;32m   4789\u001b[0m \u001b[38;5;28;01mdef\u001b[39;00m \u001b[38;5;21mapply\u001b[39m(\n\u001b[0;32m   4790\u001b[0m     \u001b[38;5;28mself\u001b[39m,\n\u001b[0;32m   4791\u001b[0m     func: AggFuncType,\n\u001b[1;32m   (...)\u001b[0m\n\u001b[0;32m   4796\u001b[0m     \u001b[38;5;241m*\u001b[39m\u001b[38;5;241m*\u001b[39mkwargs,\n\u001b[0;32m   4797\u001b[0m ) \u001b[38;5;241m-\u001b[39m\u001b[38;5;241m>\u001b[39m DataFrame \u001b[38;5;241m|\u001b[39m Series:\n\u001b[0;32m   4798\u001b[0m \u001b[38;5;250m    \u001b[39m\u001b[38;5;124;03m\"\"\"\u001b[39;00m\n\u001b[0;32m   4799\u001b[0m \u001b[38;5;124;03m    Invoke function on values of Series.\u001b[39;00m\n\u001b[0;32m   4800\u001b[0m \n\u001b[1;32m   (...)\u001b[0m\n\u001b[0;32m   4915\u001b[0m \u001b[38;5;124;03m    dtype: float64\u001b[39;00m\n\u001b[0;32m   4916\u001b[0m \u001b[38;5;124;03m    \"\"\"\u001b[39;00m\n\u001b[0;32m   4917\u001b[0m     \u001b[38;5;28;01mreturn\u001b[39;00m SeriesApply(\n\u001b[0;32m   4918\u001b[0m         \u001b[38;5;28mself\u001b[39m,\n\u001b[0;32m   4919\u001b[0m         func,\n\u001b[0;32m   4920\u001b[0m         convert_dtype\u001b[38;5;241m=\u001b[39mconvert_dtype,\n\u001b[0;32m   4921\u001b[0m         by_row\u001b[38;5;241m=\u001b[39mby_row,\n\u001b[0;32m   4922\u001b[0m         args\u001b[38;5;241m=\u001b[39margs,\n\u001b[0;32m   4923\u001b[0m         kwargs\u001b[38;5;241m=\u001b[39mkwargs,\n\u001b[1;32m-> 4924\u001b[0m     )\u001b[38;5;241m.\u001b[39mapply()\n",
      "File \u001b[1;32m~\\miniconda3\\Lib\\site-packages\\pandas\\core\\apply.py:1427\u001b[0m, in \u001b[0;36mSeriesApply.apply\u001b[1;34m(self)\u001b[0m\n\u001b[0;32m   1424\u001b[0m     \u001b[38;5;28;01mreturn\u001b[39;00m \u001b[38;5;28mself\u001b[39m\u001b[38;5;241m.\u001b[39mapply_compat()\n\u001b[0;32m   1426\u001b[0m \u001b[38;5;66;03m# self.func is Callable\u001b[39;00m\n\u001b[1;32m-> 1427\u001b[0m \u001b[38;5;28;01mreturn\u001b[39;00m \u001b[38;5;28mself\u001b[39m\u001b[38;5;241m.\u001b[39mapply_standard()\n",
      "File \u001b[1;32m~\\miniconda3\\Lib\\site-packages\\pandas\\core\\apply.py:1507\u001b[0m, in \u001b[0;36mSeriesApply.apply_standard\u001b[1;34m(self)\u001b[0m\n\u001b[0;32m   1501\u001b[0m \u001b[38;5;66;03m# row-wise access\u001b[39;00m\n\u001b[0;32m   1502\u001b[0m \u001b[38;5;66;03m# apply doesn't have a `na_action` keyword and for backward compat reasons\u001b[39;00m\n\u001b[0;32m   1503\u001b[0m \u001b[38;5;66;03m# we need to give `na_action=\"ignore\"` for categorical data.\u001b[39;00m\n\u001b[0;32m   1504\u001b[0m \u001b[38;5;66;03m# TODO: remove the `na_action=\"ignore\"` when that default has been changed in\u001b[39;00m\n\u001b[0;32m   1505\u001b[0m \u001b[38;5;66;03m#  Categorical (GH51645).\u001b[39;00m\n\u001b[0;32m   1506\u001b[0m action \u001b[38;5;241m=\u001b[39m \u001b[38;5;124m\"\u001b[39m\u001b[38;5;124mignore\u001b[39m\u001b[38;5;124m\"\u001b[39m \u001b[38;5;28;01mif\u001b[39;00m \u001b[38;5;28misinstance\u001b[39m(obj\u001b[38;5;241m.\u001b[39mdtype, CategoricalDtype) \u001b[38;5;28;01melse\u001b[39;00m \u001b[38;5;28;01mNone\u001b[39;00m\n\u001b[1;32m-> 1507\u001b[0m mapped \u001b[38;5;241m=\u001b[39m obj\u001b[38;5;241m.\u001b[39m_map_values(\n\u001b[0;32m   1508\u001b[0m     mapper\u001b[38;5;241m=\u001b[39mcurried, na_action\u001b[38;5;241m=\u001b[39maction, convert\u001b[38;5;241m=\u001b[39m\u001b[38;5;28mself\u001b[39m\u001b[38;5;241m.\u001b[39mconvert_dtype\n\u001b[0;32m   1509\u001b[0m )\n\u001b[0;32m   1511\u001b[0m \u001b[38;5;28;01mif\u001b[39;00m \u001b[38;5;28mlen\u001b[39m(mapped) \u001b[38;5;129;01mand\u001b[39;00m \u001b[38;5;28misinstance\u001b[39m(mapped[\u001b[38;5;241m0\u001b[39m], ABCSeries):\n\u001b[0;32m   1512\u001b[0m     \u001b[38;5;66;03m# GH#43986 Need to do list(mapped) in order to get treated as nested\u001b[39;00m\n\u001b[0;32m   1513\u001b[0m     \u001b[38;5;66;03m#  See also GH#25959 regarding EA support\u001b[39;00m\n\u001b[0;32m   1514\u001b[0m     \u001b[38;5;28;01mreturn\u001b[39;00m obj\u001b[38;5;241m.\u001b[39m_constructor_expanddim(\u001b[38;5;28mlist\u001b[39m(mapped), index\u001b[38;5;241m=\u001b[39mobj\u001b[38;5;241m.\u001b[39mindex)\n",
      "File \u001b[1;32m~\\miniconda3\\Lib\\site-packages\\pandas\\core\\base.py:921\u001b[0m, in \u001b[0;36mIndexOpsMixin._map_values\u001b[1;34m(self, mapper, na_action, convert)\u001b[0m\n\u001b[0;32m    918\u001b[0m \u001b[38;5;28;01mif\u001b[39;00m \u001b[38;5;28misinstance\u001b[39m(arr, ExtensionArray):\n\u001b[0;32m    919\u001b[0m     \u001b[38;5;28;01mreturn\u001b[39;00m arr\u001b[38;5;241m.\u001b[39mmap(mapper, na_action\u001b[38;5;241m=\u001b[39mna_action)\n\u001b[1;32m--> 921\u001b[0m \u001b[38;5;28;01mreturn\u001b[39;00m algorithms\u001b[38;5;241m.\u001b[39mmap_array(arr, mapper, na_action\u001b[38;5;241m=\u001b[39mna_action, convert\u001b[38;5;241m=\u001b[39mconvert)\n",
      "File \u001b[1;32m~\\miniconda3\\Lib\\site-packages\\pandas\\core\\algorithms.py:1743\u001b[0m, in \u001b[0;36mmap_array\u001b[1;34m(arr, mapper, na_action, convert)\u001b[0m\n\u001b[0;32m   1741\u001b[0m values \u001b[38;5;241m=\u001b[39m arr\u001b[38;5;241m.\u001b[39mastype(\u001b[38;5;28mobject\u001b[39m, copy\u001b[38;5;241m=\u001b[39m\u001b[38;5;28;01mFalse\u001b[39;00m)\n\u001b[0;32m   1742\u001b[0m \u001b[38;5;28;01mif\u001b[39;00m na_action \u001b[38;5;129;01mis\u001b[39;00m \u001b[38;5;28;01mNone\u001b[39;00m:\n\u001b[1;32m-> 1743\u001b[0m     \u001b[38;5;28;01mreturn\u001b[39;00m lib\u001b[38;5;241m.\u001b[39mmap_infer(values, mapper, convert\u001b[38;5;241m=\u001b[39mconvert)\n\u001b[0;32m   1744\u001b[0m \u001b[38;5;28;01melse\u001b[39;00m:\n\u001b[0;32m   1745\u001b[0m     \u001b[38;5;28;01mreturn\u001b[39;00m lib\u001b[38;5;241m.\u001b[39mmap_infer_mask(\n\u001b[0;32m   1746\u001b[0m         values, mapper, mask\u001b[38;5;241m=\u001b[39misna(values)\u001b[38;5;241m.\u001b[39mview(np\u001b[38;5;241m.\u001b[39muint8), convert\u001b[38;5;241m=\u001b[39mconvert\n\u001b[0;32m   1747\u001b[0m     )\n",
      "File \u001b[1;32mlib.pyx:2972\u001b[0m, in \u001b[0;36mpandas._libs.lib.map_infer\u001b[1;34m()\u001b[0m\n",
      "Cell \u001b[1;32mIn[100], line 6\u001b[0m, in \u001b[0;36mdecode_position_log\u001b[1;34m(base64_string)\u001b[0m\n\u001b[0;32m      1\u001b[0m \u001b[38;5;28;01mdef\u001b[39;00m \u001b[38;5;21mdecode_position_log\u001b[39m(base64_string):\n\u001b[0;32m      2\u001b[0m     \u001b[38;5;66;03m# This function decodes the Base64 string to a byte array\u001b[39;00m\n\u001b[0;32m      3\u001b[0m     \u001b[38;5;66;03m# you pass in the base 64 string that you want to deserialize\u001b[39;00m\n\u001b[0;32m      4\u001b[0m \n\u001b[0;32m      5\u001b[0m     \u001b[38;5;66;03m# decodes base 64 string into byte array\u001b[39;00m\n\u001b[1;32m----> 6\u001b[0m     byte_array \u001b[38;5;241m=\u001b[39m base64\u001b[38;5;241m.\u001b[39mb64decode(base64_string)\n\u001b[0;32m      8\u001b[0m     \u001b[38;5;66;03m# Unpack the byte array into floats\u001b[39;00m\n\u001b[0;32m      9\u001b[0m     x, y, z \u001b[38;5;241m=\u001b[39m struct\u001b[38;5;241m.\u001b[39munpack(\u001b[38;5;124m'\u001b[39m\u001b[38;5;124mfff\u001b[39m\u001b[38;5;124m'\u001b[39m, byte_array)\n",
      "File \u001b[1;32m~\\miniconda3\\Lib\\base64.py:88\u001b[0m, in \u001b[0;36mb64decode\u001b[1;34m(s, altchars, validate)\u001b[0m\n\u001b[0;32m     86\u001b[0m     \u001b[38;5;28;01massert\u001b[39;00m \u001b[38;5;28mlen\u001b[39m(altchars) \u001b[38;5;241m==\u001b[39m \u001b[38;5;241m2\u001b[39m, \u001b[38;5;28mrepr\u001b[39m(altchars)\n\u001b[0;32m     87\u001b[0m     s \u001b[38;5;241m=\u001b[39m s\u001b[38;5;241m.\u001b[39mtranslate(\u001b[38;5;28mbytes\u001b[39m\u001b[38;5;241m.\u001b[39mmaketrans(altchars, \u001b[38;5;124mb\u001b[39m\u001b[38;5;124m'\u001b[39m\u001b[38;5;124m+/\u001b[39m\u001b[38;5;124m'\u001b[39m))\n\u001b[1;32m---> 88\u001b[0m \u001b[38;5;28;01mreturn\u001b[39;00m binascii\u001b[38;5;241m.\u001b[39ma2b_base64(s, strict_mode\u001b[38;5;241m=\u001b[39mvalidate)\n",
      "\u001b[1;31mError\u001b[0m: Incorrect padding"
     ]
    }
   ],
   "source": [
    "def deserialize_all(path):\n",
    "    # this deserializes all of the data. Goes throughout the folders to each csv file in the study\n",
    "    path += 'p'\n",
    "\n",
    "    for i in range(1, 33):\n",
    "        new_path = path\n",
    "        \n",
    "        new_path += str(i) + '/csv/' # we go through p1-p32\n",
    "        \n",
    "        # Get the list of files and directories in the specified directory\n",
    "        files_and_dirs = os.listdir(new_path)\n",
    "    \n",
    "        # Get an array of all the files in a directory (csv files)\n",
    "        files = [f for f in files_and_dirs if os.path.isfile(os.path.join(new_path, f))]\n",
    "\n",
    "        print(f'deserializing {(path + str(i))[14:]}...', end = ' ')\n",
    "        for csv_file in files:\n",
    "            deserialize_csv(new_path + csv_file)            \n",
    "        print('done.')\n",
    "\n",
    "path = 'xcped_decoded/'\n",
    "deserialize_all(path)"
   ]
  },
  {
   "cell_type": "code",
   "execution_count": null,
   "id": "15ff1c59-5e0c-4073-9f00-1af6b729d7e8",
   "metadata": {},
   "outputs": [],
   "source": []
  }
 ],
 "metadata": {
  "kernelspec": {
   "display_name": "Python 3 (ipykernel)",
   "language": "python",
   "name": "python3"
  },
  "language_info": {
   "codemirror_mode": {
    "name": "ipython",
    "version": 3
   },
   "file_extension": ".py",
   "mimetype": "text/x-python",
   "name": "python",
   "nbconvert_exporter": "python",
   "pygments_lexer": "ipython3",
   "version": "3.12.3"
  }
 },
 "nbformat": 4,
 "nbformat_minor": 5
}
